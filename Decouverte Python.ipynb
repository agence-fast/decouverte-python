{
 "cells": [
  {
   "cell_type": "markdown",
   "id": "29ae3a3b",
   "metadata": {},
   "source": [
    "# Objectif \n",
    "\n",
    "\n",
    "Découvrir les bases d'un langage informatique avec Python "
   ]
  },
  {
   "cell_type": "markdown",
   "id": "2c01402b",
   "metadata": {},
   "source": [
    "👉 Ce que nous allons voir \n",
    "- Les types \n",
    "- Les fonctions \n",
    "- Les méthodes \n",
    "- Les opérations \n",
    "- Les conditions \n",
    "- Les itérateurs \n",
    "\n",
    "\n",
    "Ces éléments sont partagés par la plupart des langages informatiques"
   ]
  },
  {
   "cell_type": "markdown",
   "id": "4c53d459",
   "metadata": {},
   "source": [
    "## Les types\n"
   ]
  },
  {
   "cell_type": "markdown",
   "id": "489802be",
   "metadata": {},
   "source": [
    "Les principaux types en Python \n",
    "\n",
    "```python \n",
    "\"Louis\" # Chaine de caractères\n",
    "12 # Entier\n",
    "3.14 # Décimal\n",
    "[\"pomme\", \"pêche\", \"poire\"] # Liste\n",
    "{'nom': 'Benjamin', 'age': 31} # Dictionnaire\n",
    "False # Booléen \n",
    "True # Booléen \n",
    "```"
   ]
  },
  {
   "cell_type": "markdown",
   "id": "bae4b935",
   "metadata": {},
   "source": [
    "Expérimentez ces différents types. "
   ]
  },
  {
   "cell_type": "code",
   "execution_count": 1,
   "id": "76fc9853",
   "metadata": {},
   "outputs": [],
   "source": [
    "# 👉Votre code ici"
   ]
  },
  {
   "cell_type": "markdown",
   "id": "75ebcb7b",
   "metadata": {},
   "source": [
    "## Les fonctions "
   ]
  },
  {
   "cell_type": "markdown",
   "id": "652c7609",
   "metadata": {},
   "source": [
    "Python propose des fonctions natives, comme un `RECHERCHEV` dans Excel.  \n",
    "Toutes les fonctions peuvent être consultées dans la [documentation](https://docs.python.org/fr/3/library/functions.html) "
   ]
  },
  {
   "cell_type": "markdown",
   "id": "da922dd9",
   "metadata": {},
   "source": [
    "Expérimentez les fonctions suivantes : \n",
    "\n",
    "```python \n",
    "type(\"Bonjour\")\n",
    "str(12)\n",
    "round(3.14)\n",
    "print(\"Bonjour\")\n",
    "```"
   ]
  },
  {
   "cell_type": "code",
   "execution_count": 3,
   "id": "8c07751e",
   "metadata": {},
   "outputs": [],
   "source": [
    "# 👉Votre code ici"
   ]
  },
  {
   "cell_type": "markdown",
   "id": "5e79ad16",
   "metadata": {},
   "source": [
    "## Les méthodes"
   ]
  },
  {
   "cell_type": "markdown",
   "id": "d1e1fa4c",
   "metadata": {},
   "source": [
    "Les méthodes sont très proches des fonctions, mais elles sont appelées sur un objet. \n",
    "Chaque type d'objet a des méthodes différentes "
   ]
  },
  {
   "cell_type": "markdown",
   "id": "86436b91",
   "metadata": {},
   "source": [
    "Expérimentez avec les fonctions suivantes : \n",
    "\n",
    "```python \n",
    "\"Bonjour\".upper()\n",
    "\"Bounjour\".endswith(\"r\")\n",
    "[\"mai\", \"juin\", \"juillet\"].count(\"mai\")\n",
    "```"
   ]
  },
  {
   "cell_type": "code",
   "execution_count": 4,
   "id": "cef1ce41",
   "metadata": {},
   "outputs": [],
   "source": [
    "# 👉Votre code ici"
   ]
  },
  {
   "cell_type": "markdown",
   "id": "04e929d1",
   "metadata": {},
   "source": [
    "## Les opérations "
   ]
  },
  {
   "cell_type": "markdown",
   "id": "97cab07b",
   "metadata": {},
   "source": [
    "Les opérations s'effectuent entre plusieurs objet.  "
   ]
  },
  {
   "cell_type": "markdown",
   "id": "564b9473",
   "metadata": {},
   "source": [
    "Expérimentez les opérations suivantes :\n",
    "\n",
    "```python \n",
    "1 + 1\n",
    "\"1\" + \"1\" \n",
    "\"Expert\"+\" - \"+\"comptable\" \n",
    "\n",
    "True and False \n",
    "True or False \n",
    "\n",
    "18 < 20 \n",
    "1 <= 2 \n",
    "9 > 10 \n",
    "\n",
    "```"
   ]
  },
  {
   "cell_type": "code",
   "execution_count": 5,
   "id": "29d959d1",
   "metadata": {},
   "outputs": [],
   "source": [
    "# 👉Votre code ici"
   ]
  },
  {
   "cell_type": "markdown",
   "id": "21dcb109",
   "metadata": {},
   "source": [
    "## Les variables "
   ]
  },
  {
   "cell_type": "markdown",
   "id": "c0248edf",
   "metadata": {},
   "source": [
    "Les variables permettent de stocker les objets. En informatique on affecte une valeur à une variable. "
   ]
  },
  {
   "cell_type": "markdown",
   "id": "9425fe66",
   "metadata": {},
   "source": [
    "Expérimentez les affectations suivantes suivantes : \n",
    "\n",
    "```python \n",
    "prenom = 'Christelle' \n",
    "print(prenom)\n",
    "\n",
    "prenom = 'Damien' \n",
    "print(prenom) \n",
    "```"
   ]
  },
  {
   "cell_type": "code",
   "execution_count": 6,
   "id": "4285abc1",
   "metadata": {},
   "outputs": [],
   "source": [
    "# 👉Votre code ici"
   ]
  },
  {
   "cell_type": "markdown",
   "id": "bad5613f",
   "metadata": {},
   "source": [
    "## Les conditions "
   ]
  },
  {
   "cell_type": "markdown",
   "id": "dd196479",
   "metadata": {},
   "source": [
    "Les conditions permettent d'orienter le programme informatique "
   ]
  },
  {
   "cell_type": "markdown",
   "id": "f10821b2",
   "metadata": {},
   "source": [
    "Expérimentez la condition suivante : \n",
    "\n",
    "```python \n",
    "age = ??\n",
    "if age >= 18:\n",
    "    # Code exécuté si l'age est supérieur ou égal à 18\n",
    "    print(\"Je peux voter\")\n",
    "else: \n",
    "    # Code exécuté sinon \n",
    "    print(\"Je ne peux pas voter\")\n",
    "```"
   ]
  },
  {
   "cell_type": "code",
   "execution_count": 7,
   "id": "bc8a5c53",
   "metadata": {},
   "outputs": [],
   "source": [
    "# 👉Votre code ici"
   ]
  },
  {
   "cell_type": "markdown",
   "id": "2c36ec05",
   "metadata": {},
   "source": [
    "## Les itérateurs "
   ]
  },
  {
   "cell_type": "markdown",
   "id": "02ab2135",
   "metadata": {},
   "source": [
    "Les itérateurs permettent de répéter plusieurs fois le même code "
   ]
  },
  {
   "cell_type": "markdown",
   "id": "4b0ed8d7",
   "metadata": {},
   "source": [
    "Expérimentez l'itérateur suivant : \n",
    "\n",
    "```python \n",
    "prenoms = [\"Louis\", \"Christelle\", \"Damien\"]\n",
    "for prenom in prenoms: \n",
    "    print(\"Bonjour\"+\" \"+prenom) \n",
    "```"
   ]
  },
  {
   "cell_type": "code",
   "execution_count": 8,
   "id": "713a2720",
   "metadata": {},
   "outputs": [],
   "source": [
    "# 👉Votre code ici"
   ]
  },
  {
   "cell_type": "markdown",
   "id": "be714878",
   "metadata": {},
   "source": [
    "Expérimentez l'itérateur suivant : \n",
    "\n",
    "```python \n",
    "montants_factures = [100, 300, 400, 666]\n",
    "\n",
    "somme = 0 \n",
    "for montant in montants_factures: \n",
    "    somme = montant + somme\n",
    "    \n",
    "print(somme)\n",
    "```"
   ]
  }
 ],
 "metadata": {
  "kernelspec": {
   "display_name": "Python 3 (ipykernel)",
   "language": "python",
   "name": "python3"
  },
  "language_info": {
   "codemirror_mode": {
    "name": "ipython",
    "version": 3
   },
   "file_extension": ".py",
   "mimetype": "text/x-python",
   "name": "python",
   "nbconvert_exporter": "python",
   "pygments_lexer": "ipython3",
   "version": "3.8.6"
  },
  "toc": {
   "base_numbering": 1,
   "nav_menu": {},
   "number_sections": true,
   "sideBar": true,
   "skip_h1_title": false,
   "title_cell": "Table of Contents",
   "title_sidebar": "Contents",
   "toc_cell": false,
   "toc_position": {},
   "toc_section_display": true,
   "toc_window_display": true
  }
 },
 "nbformat": 4,
 "nbformat_minor": 5
}
